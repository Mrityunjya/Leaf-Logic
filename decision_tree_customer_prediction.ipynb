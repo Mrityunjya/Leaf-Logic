{
 "cells": [
  {
   "cell_type": "markdown",
   "id": "f644a3c4",
   "metadata": {},
   "source": [
    "#  Decision Tree Classifier: Predicting Customer Purchase Behavior\n",
    "An interpretable AI pipeline that predicts whether a customer will purchase a product or service based on demographic and behavioral data.\n"
   ]
  },
  {
   "cell_type": "code",
   "execution_count": 1,
   "id": "c48755e1",
   "metadata": {},
   "outputs": [],
   "source": [
    "# 📦 Import Libraries\n",
    "import pandas as pd\n",
    "import numpy as np\n",
    "import matplotlib.pyplot as plt\n",
    "import seaborn as sns\n",
    "from sklearn.model_selection import train_test_split\n",
    "from sklearn.tree import DecisionTreeClassifier, plot_tree\n",
    "from sklearn.metrics import classification_report, confusion_matrix, accuracy_score\n",
    "from sklearn.preprocessing import LabelEncoder\n",
    "import warnings\n",
    "warnings.filterwarnings('ignore')"
   ]
  },
  {
   "cell_type": "code",
   "execution_count": null,
   "id": "2296a10b",
   "metadata": {},
   "outputs": [
    {
     "ename": "NameError",
     "evalue": "name 'pd' is not defined",
     "output_type": "error",
     "traceback": [
      "\u001b[31m---------------------------------------------------------------------------\u001b[39m",
      "\u001b[31mNameError\u001b[39m                                 Traceback (most recent call last)",
      "\u001b[36mCell\u001b[39m\u001b[36m \u001b[39m\u001b[32mIn[1]\u001b[39m\u001b[32m, line 3\u001b[39m\n\u001b[32m      1\u001b[39m \u001b[38;5;66;03m# 📥 Load Dataset (Bank Marketing)\u001b[39;00m\n\u001b[32m      2\u001b[39m url = \u001b[33m\"\u001b[39m\u001b[33mhttps://archive.ics.uci.edu/ml/machine-learning-databases/00222/bank.csv\u001b[39m\u001b[33m\"\u001b[39m\n\u001b[32m----> \u001b[39m\u001b[32m3\u001b[39m df = \u001b[43mpd\u001b[49m.read_csv(url, sep=\u001b[33m'\u001b[39m\u001b[33m;\u001b[39m\u001b[33m'\u001b[39m)\n\u001b[32m      4\u001b[39m df.head()\n",
      "\u001b[31mNameError\u001b[39m: name 'pd' is not defined"
     ]
    }
   ],
   "source": [
    "# 📥 Load Dataset (Bank Marketing)\n",
    "df = pd.read_csv(\"bank-additional/bank-additional-full.csv\", sep=';')\n",
    "df.head()"
   ]
  },
  {
   "cell_type": "code",
   "execution_count": null,
   "id": "61eff9c3",
   "metadata": {},
   "outputs": [],
   "source": [
    "# 📊 Exploratory Data Analysis\n",
    "print(df.shape)\n",
    "print(df.info())\n",
    "df['y'].value_counts().plot(kind='bar', title='Target Distribution')"
   ]
  },
  {
   "cell_type": "code",
   "execution_count": null,
   "id": "1db1c7b6",
   "metadata": {},
   "outputs": [],
   "source": [
    "# 🔄 Encode Categorical Features\n",
    "le = LabelEncoder()\n",
    "df_encoded = df.apply(lambda col: le.fit_transform(col) if col.dtypes=='object' else col)\n",
    "df_encoded.head()"
   ]
  },
  {
   "cell_type": "code",
   "execution_count": null,
   "id": "ab2e6644",
   "metadata": {},
   "outputs": [],
   "source": [
    "# ✂️ Feature and Target Split\n",
    "X = df_encoded.drop('y', axis=1)\n",
    "y = df_encoded['y']\n",
    "X_train, X_test, y_train, y_test = train_test_split(X, y, test_size=0.2, random_state=42)\n",
    "X_train.shape, X_test.shape"
   ]
  },
  {
   "cell_type": "code",
   "execution_count": null,
   "id": "05cc97ef",
   "metadata": {},
   "outputs": [],
   "source": [
    "# 🌳 Train Decision Tree Classifier\n",
    "clf = DecisionTreeClassifier(criterion='entropy', max_depth=5, random_state=42)\n",
    "clf.fit(X_train, y_train)\n",
    "y_pred = clf.predict(X_test)"
   ]
  },
  {
   "cell_type": "code",
   "execution_count": null,
   "id": "bb984e33",
   "metadata": {},
   "outputs": [],
   "source": [
    "# 📈 Evaluation Metrics\n",
    "print(\"Accuracy:\", accuracy_score(y_test, y_pred))\n",
    "print(confusion_matrix(y_test, y_pred))\n",
    "print(classification_report(y_test, y_pred))"
   ]
  },
  {
   "cell_type": "code",
   "execution_count": null,
   "id": "d3f34fc8",
   "metadata": {},
   "outputs": [],
   "source": [
    "# 🔍 Visualize Decision Tree\n",
    "plt.figure(figsize=(20,10))\n",
    "plot_tree(clf, filled=True, feature_names=X.columns, class_names=['No','Yes'])\n",
    "plt.show()"
   ]
  },
  {
   "cell_type": "code",
   "execution_count": null,
   "id": "89e36094",
   "metadata": {},
   "outputs": [],
   "source": [
    "# 📊 Feature Importance\n",
    "importances = pd.Series(clf.feature_importances_, index=X.columns)\n",
    "importances = importances.sort_values(ascending=False)\n",
    "plt.figure(figsize=(10,6))\n",
    "sns.barplot(x=importances, y=importances.index)\n",
    "plt.title('Feature Importances from Decision Tree')\n",
    "plt.show()"
   ]
  }
 ],
 "metadata": {
  "kernelspec": {
   "display_name": "Python 3",
   "language": "python",
   "name": "python3"
  },
  "language_info": {
   "codemirror_mode": {
    "name": "ipython",
    "version": 3
   },
   "file_extension": ".py",
   "mimetype": "text/x-python",
   "name": "python",
   "nbconvert_exporter": "python",
   "pygments_lexer": "ipython3",
   "version": "3.13.1"
  }
 },
 "nbformat": 4,
 "nbformat_minor": 5
}
